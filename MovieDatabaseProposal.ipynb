{
 "cells": [
  {
   "cell_type": "markdown",
   "metadata": {},
   "source": [
    "# Movie Database Proposal\n",
    "TheMoviedb API Key = d4ff2dff45eff9d52cbd06be5e879fc2\n",
    "format: https://api.themoviedb.org/3/movie/{movie_id}?api_key=<<api_key>>&language=en-US"
   ]
  },
  {
   "cell_type": "code",
   "execution_count": 9,
   "metadata": {},
   "outputs": [
    {
     "name": "stdout",
     "output_type": "stream",
     "text": [
      "adult: False\n",
      "backdrop_path: /5C3RriLKkIAQtQMx85JLtu4rVI2.jpg\n",
      "belongs_to_collection: None\n",
      "budget: 165000000\n",
      "genres: [{'id': 12, 'name': 'Adventure'}, {'id': 18, 'name': 'Drama'}, {'id': 878, 'name': 'Science Fiction'}]\n",
      "homepage: http://www.interstellarmovie.net/\n",
      "id: 157336\n",
      "imdb_id: tt0816692\n",
      "original_language: en\n",
      "original_title: Interstellar\n",
      "overview: The adventures of a group of explorers who make use of a newly discovered wormhole to surpass the limitations on human space travel and conquer the vast distances involved in an interstellar voyage.\n",
      "popularity: 174.67\n",
      "poster_path: /gEU2QniE6E77NI6lCU6MxlNBvIx.jpg\n",
      "production_companies: [{'id': 923, 'logo_path': '/5UQsZrfbfG2dYJbx8DxfoTr2Bvu.png', 'name': 'Legendary Pictures', 'origin_country': 'US'}, {'id': 9996, 'logo_path': '/3tvBqYsBhxWeHlu62SIJ1el93O7.png', 'name': 'Syncopy', 'origin_country': 'GB'}, {'id': 13769, 'logo_path': None, 'name': 'Lynda Obst Productions', 'origin_country': ''}]\n",
      "production_countries: [{'iso_3166_1': 'GB', 'name': 'United Kingdom'}, {'iso_3166_1': 'US', 'name': 'United States of America'}]\n",
      "release_date: 2014-11-05\n",
      "revenue: 701729206\n",
      "runtime: 169\n",
      "spoken_languages: [{'english_name': 'English', 'iso_639_1': 'en', 'name': 'English'}]\n",
      "status: Released\n",
      "tagline: Mankind was born on Earth. It was never meant to die here.\n",
      "title: Interstellar\n",
      "video: False\n",
      "vote_average: 8.4\n",
      "vote_count: 28274\n",
      "Image sucessfully Downloaded:  interstellar_poster.jpg\n"
     ]
    }
   ],
   "source": [
    "import requests\n",
    "import pandas as pd\n",
    "from PIL import Image\n",
    "import shutil\n",
    "\n",
    "movieRequest = requests.get('https://api.themoviedb.org/3/movie/157336?api_key=d4ff2dff45eff9d52cbd06be5e879fc2&language=en-US')\n",
    "interstellar = movieRequest.json()\n",
    "for key, value in interstellar.items():\n",
    "    print(key + ':', value)\n",
    "\n",
    "res = requests.get(\"https://image.tmdb.org/t/p/original/gEU2QniE6E77NI6lCU6MxlNBvIx.jpg\", stream = True)\n",
    "if res.status_code == 200:\n",
    "    with open('interstellar_poster.jpg','wb') as f:\n",
    "        shutil.copyfileobj(res.raw, f)\n",
    "    print('Image sucessfully Downloaded: ','interstellar_poster.jpg')\n",
    "else:\n",
    "    print('Image Couldn\\'t be retrieved')"
   ]
  }
 ],
 "metadata": {
  "interpreter": {
   "hash": "aee8b7b246df8f9039afb4144a1f6fd8d2ca17a180786b69acc140d282b71a49"
  },
  "kernelspec": {
   "display_name": "Python 3.10.4 64-bit",
   "language": "python",
   "name": "python3"
  },
  "language_info": {
   "codemirror_mode": {
    "name": "ipython",
    "version": 3
   },
   "file_extension": ".py",
   "mimetype": "text/x-python",
   "name": "python",
   "nbconvert_exporter": "python",
   "pygments_lexer": "ipython3",
   "version": "3.10.4"
  },
  "orig_nbformat": 4
 },
 "nbformat": 4,
 "nbformat_minor": 2
}
